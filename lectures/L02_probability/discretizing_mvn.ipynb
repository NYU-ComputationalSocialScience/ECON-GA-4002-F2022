{
 "cells": [
  {
   "cell_type": "markdown",
   "id": "005e1b77-0ca4-4b84-b523-017f941de285",
   "metadata": {},
   "source": [
    "# Discrete Random Variables\n",
    "\n",
    "This short notebooks experiments with the concepts from the Probability Theory 1 video from the class ECON-GA-4002\n",
    "\n",
    "We will do the following:\n",
    "\n",
    "- propose a bivariate normal by specifying its mean and covariance\n",
    "- Sample random draws from that distribution\n",
    "- Use the random draws to construct an M x N discretized representation of our bivariate normal. This will give us a discrete joint distribution in a matrix\n",
    "- Experiment with the joint distribution"
   ]
  },
  {
   "cell_type": "code",
   "execution_count": 1,
   "id": "223f1c5b-cc32-4bf6-b248-55bf7facb608",
   "metadata": {},
   "outputs": [],
   "source": [
    "import numpy as np\n",
    "from scipy.stats import multivariate_normal"
   ]
  },
  {
   "cell_type": "code",
   "execution_count": 2,
   "id": "239bb186-848a-4813-812c-3f72f9f78d3a",
   "metadata": {},
   "outputs": [],
   "source": [
    "# change these if you want\n",
    "mu = np.array([1, -2])\n",
    "\n",
    "# Diagonal matrix implies independent RVs\n",
    "sigma = np.array([[3, 0], [0, 1]])"
   ]
  },
  {
   "cell_type": "code",
   "execution_count": 3,
   "id": "7b376a69-7f00-44af-a6dc-835426215c5d",
   "metadata": {},
   "outputs": [],
   "source": [
    "# draw 10,000 samples\n",
    "np.random.seed(42)\n",
    "samples = multivariate_normal(mu, sigma).rvs(10000)"
   ]
  },
  {
   "cell_type": "code",
   "execution_count": 4,
   "id": "cd5b1093-c38b-4119-9022-1ccb633abe28",
   "metadata": {},
   "outputs": [],
   "source": [
    "# discretize the samples\n",
    "counts, xbins, ybins = np.histogram2d(\n",
    "    x=samples[:, 0], \n",
    "    y=samples[:, 1],\n",
    "    bins=(12, 10),\n",
    ")"
   ]
  },
  {
   "cell_type": "code",
   "execution_count": 5,
   "id": "32a7451e-938b-4e57-a933-33e2d03dd67b",
   "metadata": {},
   "outputs": [
    {
     "data": {
      "text/plain": [
       "array([[  0.,   0.,   0.,   3.,   1.,   1.,   2.,   1.,   0.,   0.],\n",
       "       [  0.,   0.,   3.,   6.,  14.,   6.,   5.,   2.,   0.,   0.],\n",
       "       [  0.,   1.,   7.,  37.,  55.,  30.,  14.,   6.,   1.,   0.],\n",
       "       [  0.,  11.,  31., 130., 165., 110.,  47.,   9.,   2.,   0.],\n",
       "       [  4.,  23., 108., 259., 358., 271., 109.,  22.,   0.,   0.],\n",
       "       [  2.,  36., 184., 468., 673., 489., 197.,  39.,   3.,   1.],\n",
       "       [  6.,  30., 213., 549., 764., 567., 200.,  45.,   5.,   0.],\n",
       "       [  6.,  33., 147., 420., 621., 444., 183.,  31.,   3.,   2.],\n",
       "       [  4.,  19., 112., 242., 387., 269., 102.,  23.,   3.,   1.],\n",
       "       [  1.,   5.,  38., 108., 147., 109.,  46.,   9.,   2.,   0.],\n",
       "       [  0.,   1.,  16.,  27.,  45.,  30.,   8.,   1.,   0.,   0.],\n",
       "       [  0.,   1.,   1.,   8.,   6.,   9.,   4.,   1.,   0.,   0.]])"
      ]
     },
     "execution_count": 5,
     "metadata": {},
     "output_type": "execute_result"
    }
   ],
   "source": [
    "counts"
   ]
  },
  {
   "cell_type": "code",
   "execution_count": 6,
   "id": "6ba57088-671e-417f-9bb5-f681eef48cc8",
   "metadata": {},
   "outputs": [
    {
     "data": {
      "text/plain": [
       "array([-5.79379652, -4.74010796, -3.6864194 , -2.63273084, -1.57904228,\n",
       "       -0.52535372,  0.52833484,  1.5820234 ,  2.63571197,  3.68940053,\n",
       "        4.74308909,  5.79677765,  6.85046621])"
      ]
     },
     "execution_count": 6,
     "metadata": {},
     "output_type": "execute_result"
    }
   ],
   "source": [
    "xbins"
   ]
  },
  {
   "cell_type": "code",
   "execution_count": 7,
   "id": "a72d9911-7b6d-40c0-98ab-4e77d7c4e782",
   "metadata": {},
   "outputs": [
    {
     "data": {
      "text/plain": [
       "array([-5.68836529, -4.87162034, -4.05487538, -3.23813043, -2.42138547,\n",
       "       -1.60464052, -0.78789557,  0.02884939,  0.84559434,  1.6623393 ,\n",
       "        2.47908425])"
      ]
     },
     "execution_count": 7,
     "metadata": {},
     "output_type": "execute_result"
    }
   ],
   "source": [
    "ybins"
   ]
  },
  {
   "cell_type": "code",
   "execution_count": 8,
   "id": "7585dd42-b4f2-44b3-98ca-8921efd9a7d6",
   "metadata": {},
   "outputs": [],
   "source": [
    "P = counts / counts.sum()  # construct joint probability dist"
   ]
  },
  {
   "cell_type": "code",
   "execution_count": 9,
   "id": "49a995b6-4e45-4cb6-8ee8-902da555a249",
   "metadata": {},
   "outputs": [],
   "source": [
    "# check that we have a distribution\n",
    "assert P.sum() == 1\n",
    "assert np.all(P >= 0)"
   ]
  },
  {
   "cell_type": "markdown",
   "id": "b3096540-bb7f-46dc-9f85-cf47c3d0282c",
   "metadata": {},
   "source": [
    "Now that we have a joint probability distribution, try to answer the following questions:\n",
    "\n",
    "1. What does a single element of P represent? For example, `P[8, 4]`\n",
    "2. How could you compute the marginal distribution of x? \n",
    "3. How could you compute the marginal distribution of y?\n",
    "4. Given the covariance matrix we picked, and your marginal distribution p(x) from question 2, what to expect the *conditional* distribution $p(x | y \\approx 0.029)$ to be? Why? What did you have to compute to answer that question?\n",
    "5. What happens to questions 1-4 if you change the covariance matrix and repeat?"
   ]
  },
  {
   "cell_type": "code",
   "execution_count": null,
   "id": "016f4808-7b54-4c2d-8667-3130f88571b7",
   "metadata": {},
   "outputs": [],
   "source": []
  }
 ],
 "metadata": {
  "kernelspec": {
   "display_name": "Python 3 (ipykernel)",
   "language": "python",
   "name": "python3"
  },
  "language_info": {
   "codemirror_mode": {
    "name": "ipython",
    "version": 3
   },
   "file_extension": ".py",
   "mimetype": "text/x-python",
   "name": "python",
   "nbconvert_exporter": "python",
   "pygments_lexer": "ipython3",
   "version": "3.10.6"
  }
 },
 "nbformat": 4,
 "nbformat_minor": 5
}
