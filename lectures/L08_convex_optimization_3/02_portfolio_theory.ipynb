{
 "cells": [
  {
   "cell_type": "markdown",
   "metadata": {
    "slideshow": {
     "slide_type": "slide"
    }
   },
   "source": [
    "# Markowitz Porftolio Theory\n",
    "\n",
    "**Prerequisites**\n",
    "\n",
    "- Convex Optimization: Quadratic Programming\n",
    "\n",
    "**Outcomes**\n",
    "\n",
    "- Understand core terminology of investment portfolios\n",
    "- Solve the standard MPT optimization problem using QP\n",
    "- Understand the risk/return tradeoff\n",
    "- Compute and plot the *efficient frontier*"
   ]
  },
  {
   "cell_type": "code",
   "execution_count": null,
   "metadata": {
    "tags": []
   },
   "outputs": [],
   "source": [
    "import numpy as np\n",
    "import pandas as pd\n",
    "import matplotlib.pyplot as plt\n",
    "%config InlineBackend.figure_format = 'svg'\n",
    "\n",
    "plt.style.use([\"ggplot\"])\n",
    "pd.set_option('display.float_format', lambda x: '%.5f' % x)\n",
    "\n",
    "prices = pd.read_csv(\"equities.csv\", parse_dates=[\"Date\"], index_col=[\"Date\"])\n",
    "prices_jan15 = prices.loc[\"2015-01\"]\n",
    "\n",
    "prices.iloc[[0, 1, 2, -3, -2, -1], :]"
   ]
  },
  {
   "cell_type": "markdown",
   "metadata": {
    "slideshow": {
     "slide_type": "slide"
    }
   },
   "source": [
    "## Background: Definitions, Notation, and Moments\n",
    "\n",
    "- Let $i = 1, \\dots, N$ index assets and $t$ index time\n",
    "- Let $p_{i,t}$ be the price of asset $i$ on date $t$\n",
    "- A **portfolio** is a collection of assets\n",
    "    - Can be represented by (potentially time varying) *shares*: $n_{i,t}$\n",
    "- Value of a portoflio is $$V_t = \\sum_{i} n_{i,t} p_{i,t}$$\n",
    "- We might also represent positions by asset *weights* $$w_{i,t} \\equiv \\frac{n_{i,t} p_{i,t}}{V_t}$$"
   ]
  },
  {
   "cell_type": "markdown",
   "metadata": {
    "slideshow": {
     "slide_type": "subslide"
    }
   },
   "source": [
    "### Example Portfolio\n",
    "\n",
    "Let's track a sample portfolio over the month of January 2015\n",
    "\n",
    "Suppose we start out holding one share of each of the stocks in the `prices_jan15` DataFrame\n",
    "\n",
    "On Jan. 12 we sell our share of AAPL and use proceeds to buy NKE\n",
    "\n",
    "On Jan. 20 we sell our 1/2 our DIS to and buy AAPL\n",
    "\n",
    "On Jan. 28 we sell the remaining 1/2 of DIS to buy MSFT"
   ]
  },
  {
   "cell_type": "markdown",
   "metadata": {
    "slideshow": {
     "slide_type": "subslide"
    }
   },
   "source": [
    "The code below creates a DataFrame `portfolio` that tracks our positions in each of the assets over January 2015"
   ]
  },
  {
   "cell_type": "code",
   "execution_count": null,
   "metadata": {
    "tags": []
   },
   "outputs": [],
   "source": [
    "portfolio = pd.DataFrame(np.ones(prices_jan15.shape), index=prices_jan15.index, columns=list(prices_jan15))\n",
    "transactions = [\n",
    "    dict(date=\"2015-01-12\", sell=\"AAPL\", frac=1, buy=\"NKE\"),\n",
    "    dict(date=\"2015-01-20\", sell=\"DIS\", frac=1/2, buy=\"AAPL\"),\n",
    "    dict(date=\"2015-01-28\", sell=\"DIS\", frac=1, buy=\"MSFT\")\n",
    "]\n",
    "\n",
    "for tx in transactions:\n",
    "    new_val = prices_jan15 * portfolio\n",
    "    # get sale value\n",
    "    dollars = new_val.at[tx[\"date\"], tx[\"sell\"]] * tx[\"frac\"]\n",
    "    \n",
    "    # use proceeds to purchase new asset\n",
    "    portfolio.loc[tx[\"date\"]:, tx[\"buy\"]] += dollars / prices.at[tx[\"date\"], tx[\"buy\"]]\n",
    "    \n",
    "    # lower holdings of asset we sold\n",
    "    portfolio.loc[tx[\"date\"]:, tx[\"sell\"]] *= (1 - tx[\"frac\"])"
   ]
  },
  {
   "cell_type": "markdown",
   "metadata": {
    "slideshow": {
     "slide_type": "subslide"
    }
   },
   "source": [
    "We can look at the porfolio holdings over time"
   ]
  },
  {
   "cell_type": "code",
   "execution_count": null,
   "metadata": {
    "tags": []
   },
   "outputs": [],
   "source": [
    "portfolio"
   ]
  },
  {
   "cell_type": "markdown",
   "metadata": {
    "slideshow": {
     "slide_type": "subslide"
    }
   },
   "source": [
    "Track the value of each position over time"
   ]
  },
  {
   "cell_type": "code",
   "execution_count": null,
   "metadata": {
    "tags": []
   },
   "outputs": [],
   "source": [
    "position_value = portfolio * prices_jan15\n",
    "position_value"
   ]
  },
  {
   "cell_type": "markdown",
   "metadata": {
    "slideshow": {
     "slide_type": "subslide"
    }
   },
   "source": [
    "If we sum across each row we can compute the value of the portfolio at each date"
   ]
  },
  {
   "cell_type": "code",
   "execution_count": null,
   "metadata": {
    "tags": []
   },
   "outputs": [],
   "source": [
    "portfolio_value = position_value.sum(axis=1)\n",
    "portfolio_value.plot(figsize=(8, 4))"
   ]
  },
  {
   "cell_type": "markdown",
   "metadata": {
    "slideshow": {
     "slide_type": "subslide"
    }
   },
   "source": [
    "Finally, we can compute the portfolio weights"
   ]
  },
  {
   "cell_type": "code",
   "execution_count": null,
   "metadata": {
    "tags": []
   },
   "outputs": [],
   "source": [
    "portfolio_weights = position_value.div(portfolio_value, axis=0)  # n_{it} p_{it} / V_t\n",
    "portfolio_weights"
   ]
  },
  {
   "cell_type": "code",
   "execution_count": null,
   "metadata": {
    "tags": []
   },
   "outputs": [],
   "source": [
    "portfolio_weights.plot(figsize=(10, 6))"
   ]
  },
  {
   "cell_type": "markdown",
   "metadata": {
    "slideshow": {
     "slide_type": "slide"
    }
   },
   "source": [
    "### Asset Returns\n",
    "\n",
    "We will assume that each position is held for exactly one month\n",
    "\n",
    "Let $p$ be the price at which we enter the position, $p'$ be the price at which we exit, and $n$ be the size of our position\n",
    "\n",
    "The return of the position is $$r \\equiv \\frac{p' - p}{p}$$"
   ]
  },
  {
   "cell_type": "markdown",
   "metadata": {
    "slideshow": {
     "slide_type": "subslide"
    }
   },
   "source": [
    "We can compute monthly returns of our `prices` DataFrame using the `pct_change` method"
   ]
  },
  {
   "cell_type": "code",
   "execution_count": null,
   "metadata": {
    "tags": []
   },
   "outputs": [],
   "source": [
    "monthly_r = prices.resample(\"BM\").first().pct_change()\n",
    "\n",
    "fig, ax = plt.subplots(2, 1, figsize=(10, 6))\n",
    "prices.plot(lw=1, ax=ax[0])\n",
    "monthly_r.plot(figsize=(10, 6), lw=1, ax=ax[1], legend=False)\n",
    "fig.tight_layout();"
   ]
  },
  {
   "cell_type": "markdown",
   "metadata": {
    "slideshow": {
     "slide_type": "subslide"
    }
   },
   "source": [
    "### Portfolio Returns\n",
    "\n",
    "Let $w$ be a weight vector defining a portfolio\n",
    "\n",
    "The return on the portfolio $r_p$ is a weighted average of the asset returns: $$r_p \\equiv \\sum_i w_i r_i$$\n",
    "\n",
    "We can compute the daily returns of our January 2015 portfolio:"
   ]
  },
  {
   "cell_type": "code",
   "execution_count": null,
   "metadata": {
    "tags": []
   },
   "outputs": [],
   "source": [
    "daily_r_jan15 = prices_jan15.pct_change()\n",
    "r_p_jan15 = (portfolio_weights * daily_r_jan15).sum(axis=1).iloc[1:]\n",
    "r_p_jan15.plot()"
   ]
  },
  {
   "cell_type": "markdown",
   "metadata": {
    "slideshow": {
     "slide_type": "subslide"
    }
   },
   "source": [
    "### Moments of Returns\n",
    "\n",
    "Given our time series of returns for each asset, we can compute various moments\n",
    "\n",
    "Two moments of particular interest for us today are\n",
    "\n",
    "1. $\\mu$: Average returns for each asset\n",
    "2. $\\Sigma$: Covariance of returns across assets\n",
    "\n",
    "Given our monthly returns DataFrame we can compute these moments using the `.mean` and `.cov` methods:"
   ]
  },
  {
   "cell_type": "code",
   "execution_count": null,
   "metadata": {
    "tags": []
   },
   "outputs": [],
   "source": [
    "mu = monthly_r.mean()\n",
    "mu"
   ]
  },
  {
   "cell_type": "code",
   "execution_count": null,
   "metadata": {
    "tags": []
   },
   "outputs": [],
   "source": [
    "Sigma = monthly_r.cov()\n",
    "Sigma"
   ]
  },
  {
   "cell_type": "markdown",
   "metadata": {
    "slideshow": {
     "slide_type": "subslide"
    }
   },
   "source": [
    "### Porfolio Moments\n",
    "\n",
    "We can also compute moments for a portfolio defined by a weight vector $w$\n",
    "\n",
    "Given average returns for assets in the portfolio ($\\mu$) and the covariance of asset returns ($\\Sigma$), the portfolio return and variance are given by\n",
    "\n",
    "\\begin{align*}\n",
    "\\mu_p &= w^T \\mu \\\\\n",
    "\\sigma_p &= w^T \\Sigma w\n",
    "\\end{align*}\n",
    "\n",
    "Note that $\\mu_p$ and $\\sigma_p$ are both scalars, not a vector and Matrix like $\\mu$ and $\\Sigma$"
   ]
  },
  {
   "cell_type": "markdown",
   "metadata": {
    "slideshow": {
     "slide_type": "slide"
    }
   },
   "source": [
    "## Portfolio Optimization\n",
    "\n",
    "Portfolio optimization is the task of selecting the \"best\" portfolio from the set of all feasible portfolios\n",
    "\n",
    "A simplistic notion of \"best\" is to put all weight on the single asset we believe will have largest percent increase in price\n",
    "\n",
    "If our beliefs are correct, this portfolio would maximize returns\n",
    "\n",
    "However, this portfolio would be fully exposed to the price movements of a single asset\n",
    "\n",
    "This is risky business!"
   ]
  },
  {
   "cell_type": "markdown",
   "metadata": {
    "slideshow": {
     "slide_type": "subslide"
    }
   },
   "source": [
    "Portfolios provide *diversification*, which can lower the risk just mentioned\n",
    "\n",
    "There are theories of portfolio optimization that allow the investor to balance the risk/return tradeoff\n",
    "\n",
    "We will study the foundational portfolio theory called Markowitz portfolio theory (MPT)\n",
    "\n",
    "> Another common name for Markowitz' theory is *modern portfolio theory*, which fortunately has the same acronym: MPT"
   ]
  },
  {
   "cell_type": "markdown",
   "metadata": {
    "slideshow": {
     "slide_type": "slide"
    }
   },
   "source": [
    "## Markowitz Portfolio Optimization\n",
    "\n",
    "The MPT framework assumes that investors are risk adverse\n",
    "\n",
    "This means that if two different portfolios have the same expected return, investors will prefer the one with lower risk\n",
    "\n",
    "Risk is summarized by the variance of portfolio returns"
   ]
  },
  {
   "cell_type": "markdown",
   "metadata": {
    "slideshow": {
     "slide_type": "subslide"
    }
   },
   "source": [
    "### MPT Problem\n",
    "\n",
    "The Markowitz' portfolio optimization problem takes both expected returns and expected risk into account\n",
    "\n",
    "Here is the form of the QP:\n",
    "\n",
    "\\begin{align*}\n",
    "\\min_{w} \\quad & \\gamma w^T \\Sigma w  - \\mu^T w \\\\\n",
    "s.t. \\quad & \\mathbf{1}^T w = 1\n",
    "\\end{align*}\n",
    "\n",
    "where $\\gamma$ is a constant that defines risk sensitivity\n",
    "\n"
   ]
  },
  {
   "cell_type": "markdown",
   "metadata": {
    "slideshow": {
     "slide_type": "subslide"
    }
   },
   "source": [
    "The MPT problem can be solved with `cvxpy` as follows\n",
    "\n",
    "> Note we will add the additional constraint that $w >= 0$, which means that we do not allow short selling and consider long-only portfolios"
   ]
  },
  {
   "cell_type": "code",
   "execution_count": null,
   "metadata": {
    "slideshow": {
     "slide_type": "-"
    }
   },
   "outputs": [],
   "source": [
    "import cvxpy as cp\n",
    "\n",
    "def solve_mpt(μ, Σ, gamma, labels=None):\n",
    "    w = cp.Variable(len(μ))\n",
    "    obj = gamma * cp.quad_form(w, Σ) - μ @ w\n",
    "    prob = cp.Problem(\n",
    "        cp.Minimize(obj),\n",
    "        [sum(w) == 1, w >= 0]\n",
    "    )\n",
    "    prob.solve()\n",
    "        \n",
    "    w_out = w.value\n",
    "    if labels is not None:\n",
    "        w_out = pd.Series(w_out, index=labels)\n",
    "    return w_out, prob"
   ]
  },
  {
   "cell_type": "markdown",
   "metadata": {
    "slideshow": {
     "slide_type": "subslide"
    }
   },
   "source": [
    "Let's use our equity data to formulate and solve the MPT problem\n",
    "\n",
    "We will use the data from January 2014 through December 2016 to solve the the Markowitz' problem "
   ]
  },
  {
   "cell_type": "code",
   "execution_count": null,
   "metadata": {
    "tags": []
   },
   "outputs": [],
   "source": [
    "returns = prices.pct_change()\n",
    "mu_pd = returns.loc[:\"2016\", :].mean()\n",
    "Sigma_pd = returns.loc[:\"2016\", :].cov()\n",
    "order = list(Sigma_pd)\n",
    "\n",
    "# user order1 to make sure data is aligned\n",
    "mu = mu_pd.loc[order].to_numpy()\n",
    "Sigma = Sigma_pd.to_numpy()\n",
    "\n",
    "w, prob = solve_mpt(mu, Sigma, gamma=1.0, labels=order)\n",
    "w "
   ]
  },
  {
   "cell_type": "markdown",
   "metadata": {
    "slideshow": {
     "slide_type": "subslide"
    }
   },
   "source": [
    "Now let's evaluate the performance of the portfolio `w` using the data for 2017\n",
    "\n",
    "We'll make the assumption that we start 2017 with $10,000 of capital and see how much we end up with!"
   ]
  },
  {
   "cell_type": "code",
   "execution_count": null,
   "metadata": {},
   "outputs": [],
   "source": [
    "capital = 10000\n",
    "prices_2017 = prices.loc[\"2017\", :]\n",
    "\n",
    "# split capital across assets according to shares\n",
    "dollars_per_asset = w * capital\n",
    "\n",
    "# Purchase portfolio: $budget / ($ per share) = shares\n",
    "shares = dollars_per_asset / prices_2017.iloc[0, :]\n",
    "\n",
    "# record shares\n",
    "portfolio = pd.DataFrame(index=prices_2017.index, columns=shares.index)\n",
    "portfolio.loc[prices_2017.index, w.index] = shares.to_numpy()"
   ]
  },
  {
   "cell_type": "markdown",
   "metadata": {
    "slideshow": {
     "slide_type": "subslide"
    }
   },
   "source": [
    "We now track the value of each position"
   ]
  },
  {
   "cell_type": "code",
   "execution_count": null,
   "metadata": {},
   "outputs": [],
   "source": [
    "V17 = (prices_2017 * portfolio)\n",
    "V17"
   ]
  },
  {
   "cell_type": "markdown",
   "metadata": {
    "slideshow": {
     "slide_type": "subslide"
    }
   },
   "source": [
    "And the value of the portfolio"
   ]
  },
  {
   "cell_type": "code",
   "execution_count": null,
   "metadata": {},
   "outputs": [],
   "source": [
    "V17_p = V17.sum(axis=1)\n",
    "V17_p.plot(figsize=(8, 4));"
   ]
  },
  {
   "cell_type": "markdown",
   "metadata": {
    "slideshow": {
     "slide_type": "subslide"
    }
   },
   "source": [
    "This would have been a great investment!\n",
    "\n",
    "The 2017 return on each position is"
   ]
  },
  {
   "cell_type": "code",
   "execution_count": null,
   "metadata": {},
   "outputs": [],
   "source": [
    "(V17.iloc[-1] - V17.iloc[0]) / V17.iloc[0]"
   ]
  },
  {
   "cell_type": "code",
   "execution_count": null,
   "metadata": {},
   "outputs": [],
   "source": [
    "w"
   ]
  },
  {
   "cell_type": "markdown",
   "metadata": {
    "slideshow": {
     "slide_type": "subslide"
    }
   },
   "source": [
    "This is surprising! Even though we had zero shares of AAPL, DIS, MCD, and NKE we are seeing positive returns on the year\n",
    "\n",
    "How is this possible?\n",
    "\n",
    "Let's look at first and last value of `V17` for DIS"
   ]
  },
  {
   "cell_type": "code",
   "execution_count": null,
   "metadata": {},
   "outputs": [],
   "source": [
    "V17.iloc[[0, -1]][\"DIS\"].to_numpy()"
   ]
  },
  {
   "cell_type": "markdown",
   "metadata": {
    "slideshow": {
     "slide_type": "subslide"
    }
   },
   "source": [
    "These are both effectively zero\n",
    "\n",
    "However, when we divide by `-5.025378273933108e-19` we might end up with just about anything because this number is so close to zero\n",
    "\n",
    "In fact, the maximum resolution for a 64-bit float (the default for Python's `float` on a 64-bit operating system) is on the order of 1e-16\n",
    "\n",
    "This means that for numbers whose difference is less than 1e-16, there are no guarantees about what the computer will compute!"
   ]
  },
  {
   "cell_type": "markdown",
   "metadata": {
    "slideshow": {
     "slide_type": "subslide"
    }
   },
   "source": [
    "To overcome this numerical issue we will set V17 equal to a small number (1e-6) for all rows in columns that have near zero weight in our portfolio\n",
    "\n",
    "By using the *same* small number, we will compute zero where we are supposed to compute zero\n",
    "\n",
    "Then, we'll recompute the yearly returns computation"
   ]
  },
  {
   "cell_type": "code",
   "execution_count": null,
   "metadata": {
    "slideshow": {
     "slide_type": "-"
    }
   },
   "outputs": [],
   "source": [
    "V17_adj = V17.copy()\n",
    "zeros = abs(w) < 1e-6\n",
    "V17_adj.loc[:, zeros] = 1e-6\n",
    "\n",
    "(V17_adj.iloc[-1, :] - V17_adj.iloc[0, :]) / V17_adj.iloc[0, :]"
   ]
  },
  {
   "cell_type": "markdown",
   "metadata": {
    "slideshow": {
     "slide_type": "-"
    }
   },
   "source": [
    "That makes more sense!"
   ]
  },
  {
   "cell_type": "markdown",
   "metadata": {
    "slideshow": {
     "slide_type": "subslide"
    }
   },
   "source": [
    "Let's calculate yearly returns for the portfolio"
   ]
  },
  {
   "cell_type": "code",
   "execution_count": null,
   "metadata": {},
   "outputs": [],
   "source": [
    "r17_p = (V17_p.iloc[-1] - V17_p.iloc[0]) / V17_p.iloc[0]\n",
    "r17_p"
   ]
  },
  {
   "cell_type": "markdown",
   "metadata": {},
   "source": [
    "This is a great return\n",
    "\n",
    "Each dollar we invested to start the year turned into $1.42 by the end of the year"
   ]
  },
  {
   "cell_type": "markdown",
   "metadata": {
    "slideshow": {
     "slide_type": "subslide"
    }
   },
   "source": [
    "Let's now compute the first two moments of the returns for each position and the portfolio"
   ]
  },
  {
   "cell_type": "code",
   "execution_count": null,
   "metadata": {},
   "outputs": [],
   "source": [
    "r17 = V17_adj.pct_change()\n",
    "mu17 = r17.mean()\n",
    "mu17"
   ]
  },
  {
   "cell_type": "code",
   "execution_count": null,
   "metadata": {},
   "outputs": [],
   "source": [
    "sigma17 = r17.var()\n",
    "sigma17"
   ]
  },
  {
   "cell_type": "markdown",
   "metadata": {
    "slideshow": {
     "slide_type": "subslide"
    }
   },
   "source": [
    "And for the portfolio"
   ]
  },
  {
   "cell_type": "code",
   "execution_count": null,
   "metadata": {},
   "outputs": [],
   "source": [
    "r17_p = V17_p.pct_change()\n",
    "mu17_p = r17_p.mean()\n",
    "mu17_p"
   ]
  },
  {
   "cell_type": "code",
   "execution_count": null,
   "metadata": {},
   "outputs": [],
   "source": [
    "sigma17_p = r17_p.var()\n",
    "sigma17_p"
   ]
  },
  {
   "cell_type": "markdown",
   "metadata": {
    "slideshow": {
     "slide_type": "subslide"
    }
   },
   "source": [
    "Notice that the average returns of the portfolio are very similar to the average returns of each asset"
   ]
  },
  {
   "cell_type": "code",
   "execution_count": null,
   "metadata": {},
   "outputs": [],
   "source": [
    "(mu17_p - mu17)  / mu17"
   ]
  },
  {
   "cell_type": "markdown",
   "metadata": {
    "slideshow": {
     "slide_type": "subslide"
    }
   },
   "source": [
    "However, the variance of portfolio is significantly lower than the variance of either asset"
   ]
  },
  {
   "cell_type": "code",
   "execution_count": null,
   "metadata": {},
   "outputs": [],
   "source": [
    "(sigma17_p - sigma17)  / sigma17"
   ]
  },
  {
   "cell_type": "markdown",
   "metadata": {},
   "source": [
    "This illustrates how diversification through a portfolio can lower the risk of investment"
   ]
  },
  {
   "cell_type": "markdown",
   "metadata": {
    "slideshow": {
     "slide_type": "subslide"
    }
   },
   "source": [
    "### Other Portfolios: The Role of $\\gamma$\n",
    "\n",
    "Above we showed computations for a single portfolio, corresponding to the MPT portoflio for $\\gamma = 1$\n",
    "\n",
    "There are an infinite number of other portfolios\n",
    "\n",
    "We can compute some of them by varying $\\gamma$"
   ]
  },
  {
   "cell_type": "markdown",
   "metadata": {
    "slideshow": {
     "slide_type": "subslide"
    }
   },
   "source": [
    "Below we use the `np.logspace` routine to construct a grid of values of $\\gamma$\n",
    "\n",
    "The spacing between points will be constant on the log base 10 scale"
   ]
  },
  {
   "cell_type": "code",
   "execution_count": null,
   "metadata": {
    "tags": []
   },
   "outputs": [],
   "source": [
    "gammas = np.logspace(-4, 4, 50)\n",
    "gammas"
   ]
  },
  {
   "cell_type": "markdown",
   "metadata": {
    "slideshow": {
     "slide_type": "subslide"
    }
   },
   "source": [
    "Next, we will solve the MPT problem for these different levels of gamma"
   ]
  },
  {
   "cell_type": "code",
   "execution_count": null,
   "metadata": {
    "tags": []
   },
   "outputs": [],
   "source": [
    "gamma_parts = []\n",
    "\n",
    "for gamma in gammas:\n",
    "    w_gamma, _ = solve_mpt(mu, Sigma, gamma=gamma, labels=order)\n",
    "    w_gamma[\"gamma\"] = gamma\n",
    "    gamma_parts.append(w_gamma)\n",
    "\n",
    "w_gammas = pd.concat(gamma_parts, axis=1).T"
   ]
  },
  {
   "cell_type": "code",
   "execution_count": null,
   "metadata": {
    "slideshow": {
     "slide_type": "subslide"
    },
    "tags": []
   },
   "outputs": [],
   "source": [
    "w_gammas.iloc[::5, :]"
   ]
  },
  {
   "cell_type": "markdown",
   "metadata": {},
   "source": [
    "Notice that for very small values of $\\gamma$, the solution to the MPT problem puts all weight on MSFT\n",
    "\n",
    "Why?\n",
    "\n",
    "Because MSFT has the highest expected return:"
   ]
  },
  {
   "cell_type": "code",
   "execution_count": null,
   "metadata": {
    "slideshow": {
     "slide_type": "fragment"
    },
    "tags": []
   },
   "outputs": [],
   "source": [
    "mu_pd"
   ]
  },
  {
   "cell_type": "markdown",
   "metadata": {
    "slideshow": {
     "slide_type": "subslide"
    }
   },
   "source": [
    "This happens because with $\\gamma$ near zero, the MPT problem reduces to the *linear program*\n",
    "\n",
    "\\begin{align*}\n",
    "\\min_w \\quad & - \\mu^T w \\\\\n",
    "s.t. \\quad & \\mathbf{1}^T w = 1 \\\\\n",
    "& w >= 0\n",
    "\\end{align*}\n",
    "\n",
    "The fact that we end up with a portfolio with 100% weight on MSFT is a manifestation of the *corner solution problem* of linear programming\n",
    "\n",
    "In terms of our application, the MPT problem reduces to putting all capital into the single asset we believe will have the highest return"
   ]
  },
  {
   "cell_type": "markdown",
   "metadata": {
    "slideshow": {
     "slide_type": "subslide"
    }
   },
   "source": [
    "Let's show those same rows of `w_gammas` again and watch what happens as $\\gamma$ increases"
   ]
  },
  {
   "cell_type": "code",
   "execution_count": null,
   "metadata": {
    "tags": []
   },
   "outputs": [],
   "source": [
    "w_gammas.iloc[::5, :]"
   ]
  },
  {
   "cell_type": "markdown",
   "metadata": {},
   "source": [
    "Notice that the largest $\\gamma$ shown above has a portfolio with non-zero weight on all 6 assets\n",
    "\n",
    "The highest share in our portfolio belongs to MCD\n",
    "\n",
    "Why?"
   ]
  },
  {
   "cell_type": "markdown",
   "metadata": {
    "slideshow": {
     "slide_type": "subslide"
    }
   },
   "source": [
    "To answer this question we need to look at both the expected returns and the expected covariance"
   ]
  },
  {
   "cell_type": "code",
   "execution_count": null,
   "metadata": {
    "tags": []
   },
   "outputs": [],
   "source": [
    "mu_pd"
   ]
  },
  {
   "cell_type": "code",
   "execution_count": null,
   "metadata": {
    "slideshow": {
     "slide_type": "-"
    },
    "tags": []
   },
   "outputs": [],
   "source": [
    "Sigma_pd"
   ]
  },
  {
   "cell_type": "markdown",
   "metadata": {},
   "source": [
    "Although MCD had the lowest expected return, it also has the lowest variance\n",
    "\n",
    "Also, when considering covariance, notice the general trend that the covariance between any asset and MCD is typically lower than the covariance between that asset and any other asset\n",
    "\n",
    "If we compute the sum of covariances for each asset, we'll see that the average covariance is lowest for MCD"
   ]
  },
  {
   "cell_type": "code",
   "execution_count": null,
   "metadata": {
    "slideshow": {
     "slide_type": "fragment"
    },
    "tags": []
   },
   "outputs": [],
   "source": [
    "Sigma_pd.mean()"
   ]
  },
  {
   "cell_type": "markdown",
   "metadata": {
    "slideshow": {
     "slide_type": "subslide"
    }
   },
   "source": [
    "How does this translate into the MPT optimal portfolio?\n",
    "\n",
    "Because MCD has a low covariance with other assets, the MPT portfolio with a high $\\gamma$ really likes MCD\n",
    "\n",
    "However, because expected returns for MCD are the lowest the optimizer wants to avoid MCD\n",
    "\n",
    "These two forces are balanced, with $\\gamma$ determining the relative significance of each component"
   ]
  },
  {
   "cell_type": "markdown",
   "metadata": {
    "slideshow": {
     "slide_type": "slide"
    }
   },
   "source": [
    "### The Sharpe Ratio\n",
    "\n",
    "Above we used QP to solve for multiple portfolios that solve the MPT problem for various levels of the risk aversion parameter $\\gamma$\n",
    "\n",
    "If we are starting 2017 and asked to pick one of these portfolios to use for the year, how would we choose?\n",
    "\n",
    "We determine to be disciplined and compute a single number that summarizes our beliefs about the benefits of each portfolio\n",
    "\n",
    "We'll call this number the performance metric\n",
    "\n",
    "The portoflio we select will be the one that maximizes our performance metric"
   ]
  },
  {
   "cell_type": "markdown",
   "metadata": {
    "slideshow": {
     "slide_type": "subslide"
    }
   },
   "source": [
    "One option for the performance metric is the expected return on the portfolio\n",
    "\n",
    "If we think carefully about this, we will realize that this will lead us to portfolio associated with the smallest value of $\\gamma$\n",
    "\n",
    "This portoflio put 100% weight on MSFT\n",
    "\n",
    "This will remove diversification and cause us to take on excess risk"
   ]
  },
  {
   "cell_type": "markdown",
   "metadata": {
    "slideshow": {
     "slide_type": "subslide"
    }
   },
   "source": [
    "We would like to use a performance metric that takes into account both the expected return and expected variance (or risk) of the portfolio\n",
    "\n",
    "One such metric is the Sharpe ratio, which is defined as\n",
    "\n",
    "$$S = \\frac{E[R_p - R_f]}{E[\\sigma_p]}$$\n",
    "\n",
    "Where $R_f$ is the risk free rate -- or the gross return that can be achieved with zero risk\n",
    "\n",
    "For our experiements in this lecture we will assume we don't have access to a risk free investent opportunity and will compute $$S = \\frac{E[R_p]}{E[\\sigma_p]}$$"
   ]
  },
  {
   "cell_type": "markdown",
   "metadata": {
    "slideshow": {
     "slide_type": "subslide"
    }
   },
   "source": [
    "We can compute the Sharpe ratio for each of the portfolios in our `w_gammas` DataFrame"
   ]
  },
  {
   "cell_type": "code",
   "execution_count": null,
   "metadata": {},
   "outputs": [],
   "source": [
    "def sharpe_ratio(w, mu, Sigma):\n",
    "    r_p = w.T @ mu\n",
    "    sigma_p = np.sqrt(w.T @ Sigma @ w)\n",
    "    sharpe = r_p / sigma_p\n",
    "    return pd.Series(dict(r=r_p, sigma=sigma_p, sharpe=sharpe))"
   ]
  },
  {
   "cell_type": "code",
   "execution_count": null,
   "metadata": {
    "slideshow": {
     "slide_type": "subslide"
    }
   },
   "outputs": [],
   "source": [
    "w_gammas_hat = w_gammas.drop([\"gamma\"], axis=1)\n",
    "sharpes = w_gammas_hat.apply(sharpe_ratio, args=(mu_pd, Sigma_pd), axis=1)\n",
    "sharpes[\"gamma\"] = w_gammas[\"gamma\"]\n",
    "sharpes.iloc[::5, :]"
   ]
  },
  {
   "cell_type": "markdown",
   "metadata": {},
   "source": [
    "Notice a few patterns as $\\gamma$ increases:\n",
    "\n",
    "- r decreases\n",
    "- sigma decreases\n",
    "- the sharpe ratio initially increases, but then begins to decrease\n"
   ]
  },
  {
   "cell_type": "markdown",
   "metadata": {
    "slideshow": {
     "slide_type": "subslide"
    }
   },
   "source": [
    "This pattern is extra evident in a chart"
   ]
  },
  {
   "cell_type": "code",
   "execution_count": null,
   "metadata": {},
   "outputs": [],
   "source": [
    "ax = sharpes.plot.scatter(x=\"sigma\", y=\"r\", c=sharpes[\"sharpe\"], cmap=\"plasma\", figsize=(8,6));\n",
    "ax.set_xlabel(\"sigma\");"
   ]
  },
  {
   "cell_type": "markdown",
   "metadata": {},
   "source": [
    "### The Efficient Frontier\n",
    "\n",
    "In our original formulation of the MPT optimization problem from above, $\\gamma$ played the role of risk sensitivity\n",
    "\n",
    "We saw that as $\\gamma$ increased, the optimizer found a portfolio that was more conservative at the expense of lower expected returns\n",
    "\n",
    "There is an alternative formulation of the MPT problem that seeks to find the minimum variance portfolio that achieves a specified expected return"
   ]
  },
  {
   "cell_type": "markdown",
   "metadata": {
    "slideshow": {
     "slide_type": "subslide"
    }
   },
   "source": [
    "This alternative represenation of the MPT problem is\n",
    "\n",
    "\\begin{align*}\n",
    "\\min_w \\quad & w^T \\Sigma w \\\\\n",
    "s.t. \\quad & \\mathbf{1}^T w = 1 \\\\\n",
    "& \\mu^T w = r^*,\n",
    "\\end{align*}\n",
    "\n",
    "where $r^*$ is the desired expected return"
   ]
  },
  {
   "cell_type": "markdown",
   "metadata": {
    "slideshow": {
     "slide_type": "subslide"
    }
   },
   "source": [
    "By solving this alternative MPT formulation, we can pick the \"y-coordinate\" in the (sigma, r) plot from above\n",
    "\n",
    "Let's give it a shot (continuing to add the no-short condition)!"
   ]
  },
  {
   "cell_type": "code",
   "execution_count": null,
   "metadata": {},
   "outputs": [],
   "source": [
    "def solve_mpt_r(μ, Σ, rstar, labels):\n",
    "    w = cp.Variable(len(μ))\n",
    "    \n",
    "    obj = cp.quad_form(w, Σ)\n",
    "    prob = cp.Problem(\n",
    "        cp.Minimize(obj),\n",
    "        [sum(w) == 1, w >= 0, μ @ w == rstar]\n",
    "    )\n",
    "    \n",
    "    prob.solve()\n",
    "    \n",
    "    out_w = pd.Series(w.value, index=labels)\n",
    "    return out_w, prob    "
   ]
  },
  {
   "cell_type": "code",
   "execution_count": null,
   "metadata": {
    "slideshow": {
     "slide_type": "subslide"
    }
   },
   "outputs": [],
   "source": [
    "rgrid = np.linspace(sharpes[\"r\"].min() * 0.95, sharpes[\"r\"].max(), 100)\n",
    "\n",
    "rstar_parts = []\n",
    "\n",
    "for rstar in rgrid:\n",
    "    w_rstar, prob_rstar = solve_mpt_r(mu, Sigma, rstar=rstar, labels=order)\n",
    "    w_rstar[\"rstar\"] = rstar\n",
    "    w_rstar[\"sigma\"] = np.sqrt(prob_rstar.value)\n",
    "    rstar_parts.append(w_rstar)\n",
    "\n",
    "w_rstars = pd.concat(rstar_parts, axis=1).T\n"
   ]
  },
  {
   "cell_type": "code",
   "execution_count": null,
   "metadata": {
    "slideshow": {
     "slide_type": "subslide"
    }
   },
   "outputs": [],
   "source": [
    "fig, ax = plt.subplots()\n",
    "ax.plot(w_rstars[\"sigma\"], rgrid)\n",
    "ax.set_ylabel(\"r\")\n",
    "ax.set_xlabel(\"sigma\");"
   ]
  },
  {
   "cell_type": "markdown",
   "metadata": {},
   "source": [
    "The plot above is called the *efficient frontier*\n",
    "\n",
    "For each value portfolio returns $r$, the frontier represents minimum possible portfolio variance that achieves that return, subject to our beliefs as encoded in $\\mu$ and $\\Sigma$"
   ]
  },
  {
   "cell_type": "markdown",
   "metadata": {
    "slideshow": {
     "slide_type": "subslide"
    }
   },
   "source": [
    "We can see this bounding feature of the efficient frontier more clearly if we simulate random portfolio weights and plot them alongside the frontier"
   ]
  },
  {
   "cell_type": "code",
   "execution_count": null,
   "metadata": {},
   "outputs": [],
   "source": [
    "rand_parts = []\n",
    "\n",
    "for _ in range(1500):\n",
    "    w = np.random.rand(6)\n",
    "    w /= w.sum()\n",
    "    rand_parts.append(sharpe_ratio(w, mu_pd, Sigma_pd))\n",
    "\n",
    "\n",
    "rand_sharpes = pd.concat(rand_parts, axis=1).T"
   ]
  },
  {
   "cell_type": "code",
   "execution_count": null,
   "metadata": {},
   "outputs": [],
   "source": [
    "ax = rand_sharpes.plot.scatter(x=\"sigma\", y=\"r\", c=rand_sharpes[\"sharpe\"], cmap=\"plasma\", figsize=(8, 5))\n",
    "ax.plot(w_rstars[\"sigma\"], rgrid)\n",
    "ax.set_title(\"Efficient Frontier\")\n",
    "ax.set_xlabel(\"sigma\");\n"
   ]
  },
  {
   "cell_type": "code",
   "execution_count": null,
   "metadata": {},
   "outputs": [],
   "source": []
  }
 ],
 "metadata": {
  "kernelspec": {
   "display_name": "Python 3 (ipykernel)",
   "language": "python",
   "name": "python3"
  },
  "language_info": {
   "codemirror_mode": {
    "name": "ipython",
    "version": 3
   },
   "file_extension": ".py",
   "mimetype": "text/x-python",
   "name": "python",
   "nbconvert_exporter": "python",
   "pygments_lexer": "ipython3",
   "version": "3.10.6"
  },
  "toc-autonumbering": false,
  "toc-showmarkdowntxt": false
 },
 "nbformat": 4,
 "nbformat_minor": 4
}
