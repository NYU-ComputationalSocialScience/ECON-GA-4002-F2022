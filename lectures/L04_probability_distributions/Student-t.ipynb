{
 "cells": [
  {
   "cell_type": "markdown",
   "metadata": {},
   "source": [
    "# Student-t Distribution"
   ]
  },
  {
   "cell_type": "code",
   "execution_count": 1,
   "metadata": {
    "ExecuteTime": {
     "end_time": "2020-09-23T03:13:10.471455Z",
     "start_time": "2020-09-23T03:13:08.711167Z"
    }
   },
   "outputs": [],
   "source": [
    "import matplotlib.pyplot as plt\n",
    "import numpy as np\n",
    "import scipy.stats as st\n",
    "\n",
    "from ipywidgets import interact, FloatSlider, HBox, Label\n",
    "\n",
    "%matplotlib inline"
   ]
  },
  {
   "cell_type": "markdown",
   "metadata": {},
   "source": [
    "### Introduction\n",
    "\n",
    "Student's t-distribution (or simply the t-distribution) is any member of a family of continuous probability distributions that arises when estimating the mean of a normally distributed population in situations where the sample size is small and the population standard deviation is unknown. It was developed by William Sealy Gosset under the pseudonym Student.\n",
    "\n",
    "Below we give a few examples of Student-t distribution (mainly t-test):\n",
    "\n",
    "* Assessing the statistical significance of the difference between two sample means\n",
    "* linear regression analysis\n",
    "* the construction of confidence intervals for the difference between two population means\n",
    "* Bayesian analysis of data from a normal family\n",
    "\n",
    "\n",
    "### Details\n",
    "\n",
    "The Student's t-distribution is a special case of the generalised hyperbolic distribution.One way to think about it is as like the Normal distribution with heavier tails.\n",
    "\n",
    "The Student-t distribution is symmetrically peaked, and its peak is located at $\\mu$, the location paramter. The peak’s width is dictated by scale parameter $\\sigma$, which is positive. Finally, the shape parameter, called “degrees of freedom,” is $\\nu$. This last parameter imparts the distribution with heavy tails for small $\\nu$.\n",
    "\n",
    "**PMF(PDF)**  \n",
    "The probability mass function(probability density function) is given by\n",
    "\n",
    "\\begin{align}\n",
    "f(y;\\nu, \\mu, \\sigma) = \\frac{\\Gamma\\left(\\frac{\\nu+1}{2}\\right)}{\\Gamma\\left(\\frac{\\nu}{2}\\right)\\sqrt{\\pi \\nu \\sigma^2}}\\left(1 + \\frac{(y-\\mu)^2}{\\nu \\sigma^2}\\right)^{-\\frac{\\nu + 1}{2}}.\n",
    "\\end{align}\n",
    "\n",
    "Where $v$ is the number of degrees of freedom and $\\Gamma$ is the gamma function. \n",
    "\n",
    "The probability density function of t-distribution is symmetric and bell-shaped, like the normal distribution, but has heavier tails, meaning that it is more prone to producing values that fall far from its mean. This makes it useful for understanding the statistical behavior of certain types of ratios of random quantities, in which variation in the denominator is amplified and may produce outlying values when the denominator of the ratio falls close to zero. As the number of degrees of freedom grows, the t-distribution approaches the normal distribution with mean $\\mu$ and variance $\\sigma$. For this reason $\\nu$ is also known as the normality parameter.\n",
    "\n",
    "**CDF**  \n",
    "\n",
    "The cumulative distribution function can be written in terms of $I$\n",
    ", the regularized incomplete beta function. For simplicity we only show the standard t-distribution. For $t > 0$,\n",
    "\\begin{align*}\n",
    "{\\displaystyle F(t)=\\int _{-\\infty }^{t}f(u)\\,du=1-{\\tfrac {1}{2}}I_{x(t)}\\left({\\tfrac {\\nu }{2}},{\\tfrac {1}{2}}\\right),}\n",
    "\\end{align*}\n",
    "where\n",
    "\\begin{align*}\n",
    "x(t) = \\frac{\\nu}{{t^2+\\nu}}.\n",
    "\\end{align*}\n",
    "Other values would be obtained by symmetry. An alternative formula, valid for $t^2 < \\nu$, is\n",
    "\\begin{align*}\n",
    "{\\displaystyle \\int _{-\\infty }^{t}f(u)\\,du={\\tfrac {1}{2}}+t{\\frac {\\Gamma \\left({\\tfrac {1}{2}}(\\nu +1)\\right)}{{\\sqrt {\\pi \\nu }}\\,\\Gamma \\left({\\tfrac {\\nu }{2}}\\right)}}\\,{}_{2}F_{1}\\left({\\tfrac {1}{2}},{\\tfrac {1}{2}}(\\nu +1);{\\tfrac {3}{2}};-{\\tfrac {t^{2}}{\\nu }}\\right),}\n",
    "\\end{align*}\n",
    "where $_2F_1$ is a particular case of the hypergeometric function.\n",
    "\n",
    "**Mean, Variance and Moments**\n",
    "\n",
    "For a t-distribution with $\\nu$  degrees of freedom, the expected value is $\\mu$ if ${\\displaystyle \\nu >1}$, and its variance is $\\frac{\\nu}{\\nu-2}$ if $\\nu>2$. \n",
    "\n",
    "For $\\nu > 1$ and $\\mu=0$, the raw moments of the t-distribution are\n",
    "\\begin{align*}\n",
    "{\\displaystyle \\operatorname {E} (T^{k})={\\begin{cases}0&k{\\text{ odd}},\\quad 0<k<\\nu \\\\{\\frac {1}{{\\sqrt {\\pi }}\\Gamma \\left({\\frac {\\nu }{2}}\\right)}}\\left[\\Gamma \\left({\\frac {k+1}{2}}\\right)\\Gamma \\left({\\frac {\\nu -k}{2}}\\right)\\nu ^{\\frac {k}{2}}\\right]&k{\\text{ even}},\\quad 0<k<\\nu .\\\\\\end{cases}}}\n",
    "\\end{align*}\n",
    "Moments of order $\\nu$  or higher do not exist.\n",
    "\n",
    "The term for $0 < k < \\nu$, k even, may be simplified using the properties of the gamma function to\n",
    "\\begin{align*}\n",
    "{\\displaystyle \\operatorname {E} (T^{k})=\\nu ^{\\frac {k}{2}}\\,\\prod _{i=1}^{k/2}{\\frac {2i-1}{\\nu -2i}}\\qquad k{\\text{ even}},\\quad 0<k<\\nu .}\n",
    "\\end{align*}\n"
   ]
  },
  {
   "cell_type": "code",
   "execution_count": 2,
   "metadata": {
    "ExecuteTime": {
     "end_time": "2020-09-23T03:13:10.517357Z",
     "start_time": "2020-09-23T03:13:10.499452Z"
    }
   },
   "outputs": [],
   "source": [
    "def student_t_plot_pdf_cdf(nu,mu,sigma):\n",
    "    brv = st.t(nu,mu,sigma)\n",
    "    fig, ax = plt.subplots(1, 2, figsize=(14, 10))\n",
    "    \n",
    "    xvals = np.linspace(-2, 2, 10000)\n",
    "    ax[0].bar(xvals, brv.pdf(xvals), width=0.1)\n",
    "    ax[0].set_title(\"Probability Mass Function\")\n",
    "    \n",
    "    xvals = np.linspace(-2, 2, 10000)\n",
    "    ax[1].plot(xvals, brv.cdf(xvals))\n",
    "    ax[1].set_title(\"Cumulative Distribution Function\")\n",
    "    \n",
    "    return None"
   ]
  },
  {
   "cell_type": "code",
   "execution_count": 3,
   "metadata": {
    "ExecuteTime": {
     "end_time": "2020-09-23T03:14:27.180503Z",
     "start_time": "2020-09-23T03:13:10.523318Z"
    }
   },
   "outputs": [
    {
     "data": {
      "application/vnd.jupyter.widget-view+json": {
       "model_id": "905eee59a1c748b09906a5c8705d9bf7",
       "version_major": 2,
       "version_minor": 0
      },
      "text/plain": [
       "interactive(children=(FloatSlider(value=1.0, description='df $\\nu$', layout=Layout(width='40%'), max=10.0, min…"
      ]
     },
     "metadata": {},
     "output_type": "display_data"
    }
   ],
   "source": [
    "fs_nu = FloatSlider(\n",
    "    value=1, min=1.0, max=10.0,\n",
    "    step=0.01, description=\"df $\\nu$\",\n",
    "    style={\"description_width\": \"50%\"},\n",
    "    layout={\"width\": \"40%\"}\n",
    ")\n",
    "\n",
    "fs_mu = FloatSlider(\n",
    "    value=0.0, min=-0.5, max=0.5,\n",
    "    step=0.01, description=\"Mean $\\mu$\",\n",
    "    style={\"description_width\": \"50%\"},\n",
    "    layout={\"width\": \"40%\"}\n",
    ")\n",
    "\n",
    "fs_sigma = FloatSlider(\n",
    "    value=0.5, min=0.1, max=1.0,\n",
    "    step=0.01, description=\"Variance $\\sigma$\",\n",
    "    style={\"description_width\": \"50%\"},\n",
    "    layout={\"width\": \"40%\"}\n",
    ")\n",
    "\n",
    "output = interact(student_t_plot_pdf_cdf, nu=fs_nu, mu=fs_mu, sigma=fs_sigma)"
   ]
  },
  {
   "cell_type": "markdown",
   "metadata": {},
   "source": [
    "### Example: Passing a class\n",
    "\n",
    "Suppose that a student needs 70 points to pass a class. The student test score in the class would be a draw from a Student-t distribution with $\\mu$=75, $\\sigma$=10, $\\nu$=20."
   ]
  },
  {
   "cell_type": "code",
   "execution_count": 4,
   "metadata": {
    "ExecuteTime": {
     "end_time": "2020-09-23T03:14:27.200219Z",
     "start_time": "2020-09-23T03:14:27.187438Z"
    }
   },
   "outputs": [],
   "source": [
    "nu,mu,sigma = 20,75,10\n",
    "\n",
    "brv = st.t(nu,mu,sigma)"
   ]
  },
  {
   "cell_type": "markdown",
   "metadata": {},
   "source": [
    "We could take a single draw from this distribution to determine whether the student's score is higher than 70."
   ]
  },
  {
   "cell_type": "code",
   "execution_count": 5,
   "metadata": {
    "ExecuteTime": {
     "end_time": "2020-09-23T03:14:27.233064Z",
     "start_time": "2020-09-23T03:14:27.214114Z"
    }
   },
   "outputs": [
    {
     "name": "stdout",
     "output_type": "stream",
     "text": [
      "65.56853197723491\n"
     ]
    },
    {
     "data": {
      "text/plain": [
       "False"
      ]
     },
     "execution_count": 5,
     "metadata": {},
     "output_type": "execute_result"
    }
   ],
   "source": [
    "score = brv.rvs()\n",
    "print(score)\n",
    "score>=70"
   ]
  },
  {
   "cell_type": "markdown",
   "metadata": {},
   "source": [
    "Or we could see what happens over many similar students (according to the law of large numbers, we should expect that the fraction of students that pass the course should obey the cumulative probability in range 70+)."
   ]
  },
  {
   "cell_type": "code",
   "execution_count": 6,
   "metadata": {
    "ExecuteTime": {
     "end_time": "2020-09-23T03:14:27.280935Z",
     "start_time": "2020-09-23T03:14:27.243094Z"
    }
   },
   "outputs": [
    {
     "name": "stdout",
     "output_type": "stream",
     "text": [
      "Fails 0.3145 of the time\n",
      "Succeeds 0.6855 of the time\n",
      "The degree of freedom parameter is 20\n",
      "The mean parameter is 75\n",
      "The variance parameter is 10\n"
     ]
    }
   ],
   "source": [
    "samples = brv.rvs(10000)\n",
    "\n",
    "print(f\"Fails {np.mean(samples < 70)} of the time\")\n",
    "print(f\"Succeeds {np.mean(samples >= 70)} of the time\")\n",
    "\n",
    "print(f\"The degree of freedom parameter is {nu}\")\n",
    "print(f\"The mean parameter is {mu}\")\n",
    "print(f\"The variance parameter is {sigma}\")"
   ]
  },
  {
   "cell_type": "code",
   "execution_count": 7,
   "metadata": {
    "ExecuteTime": {
     "end_time": "2020-09-23T03:14:29.508073Z",
     "start_time": "2020-09-23T03:14:27.290985Z"
    }
   },
   "outputs": [
    {
     "name": "stderr",
     "output_type": "stream",
     "text": [
      "/var/folders/fx/_k7mnq0x0lg851kcg9vwn1dh0000gn/T/ipykernel_38669/3750145490.py:3: FutureWarning: \n",
      "\n",
      "`shade` is now deprecated in favor of `fill`; setting `fill=True`.\n",
      "This will become an error in seaborn v0.14.0; please update your code.\n",
      "\n",
      "  sns.kdeplot(samples,shade=True)\n"
     ]
    },
    {
     "data": {
      "image/png": "[encoded data removed]",
      "text/plain": [
       "<Figure size 432x288 with 1 Axes>"
      ]
     },
     "metadata": {
      "needs_background": "light"
     },
     "output_type": "display_data"
    }
   ],
   "source": [
    "import seaborn as sns\n",
    "\n",
    "sns.kdeplot(samples,shade=True)\n",
    "plt.show()"
   ]
  },
  {
   "cell_type": "markdown",
   "metadata": {},
   "source": [
    "**Note**: In creating this notebook, I referenced the \"Distribution Explorer\" material found at https://distribution-explorer.github.io/index.html  \n",
    "https://wp-en.wikideck.com/Student%27s_t-distribution  \n",
    "I certainly encourage others to find additional information there."
   ]
  }
 ],
 "metadata": {
  "kernelspec": {
   "display_name": "Python 3 (ipykernel)",
   "language": "python",
   "name": "python3"
  },
  "language_info": {
   "codemirror_mode": {
    "name": "ipython",
    "version": 3
   },
   "file_extension": ".py",
   "mimetype": "text/x-python",
   "name": "python",
   "nbconvert_exporter": "python",
   "pygments_lexer": "ipython3",
   "version": "3.9.7"
  },
  "toc": {
   "base_numbering": 1,
   "nav_menu": {},
   "number_sections": true,
   "sideBar": true,
   "skip_h1_title": false,
   "title_cell": "Table of Contents",
   "title_sidebar": "Contents",
   "toc_cell": false,
   "toc_position": {},
   "toc_section_display": true,
   "toc_window_display": false
  },
  "varInspector": {
   "cols": {
    "lenName": 16,
    "lenType": 16,
    "lenVar": 40
   },
   "kernels_config": {
    "python": {
     "delete_cmd_postfix": "",
     "delete_cmd_prefix": "del ",
     "library": "var_list.py",
     "varRefreshCmd": "print(var_dic_list())"
    },
    "r": {
     "delete_cmd_postfix": ") ",
     "delete_cmd_prefix": "rm(",
     "library": "var_list.r",
     "varRefreshCmd": "cat(var_dic_list()) "
    }
   },
   "types_to_exclude": [
    "module",
    "function",
    "builtin_function_or_method",
    "instance",
    "_Feature"
   ],
   "window_display": false
  }
 },
 "nbformat": 4,
 "nbformat_minor": 4
}
